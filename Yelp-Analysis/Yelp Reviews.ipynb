{
 "cells": [
  {
   "cell_type": "markdown",
   "metadata": {},
   "source": [
    "## Mini Machine Learning Project"
   ]
  },
  {
   "cell_type": "markdown",
   "metadata": {},
   "source": [
    "### Project Goals\n",
    "The focus of this project is to be able to assess whether a yelp review is postive or negative based on sentiment analysis of the text. I did some data cleaning such as removing common stop words. I then trained a SVM to predict the sentiment of the review. I assessed the accuracy by predefining positive reviews as having 4 or 5 stars and everything else was considered as negative. Furthermore I did some analysis on the linearity of the data that can be seen below. The SVM was able to achieve an accuracy of ~80%. "
   ]
  },
  {
   "cell_type": "code",
   "execution_count": 11,
   "metadata": {},
   "outputs": [],
   "source": [
    "import numpy as np\n",
    "import pandas as pd\n",
    "import os\n",
    "import re\n",
    "from matplotlib import pyplot as plt\n",
    "\n",
    "from sklearn.model_selection import train_test_split\n",
    "import nltk  \n",
    "from nltk.corpus import stopwords\n",
    "import heapq\n",
    "from sklearn.feature_extraction.text import TfidfVectorizer\n",
    "from sklearn.svm import SVC\n",
    "from nltk import pos_tag\n",
    "from nltk.corpus import stopwords\n",
    "from nltk.stem import WordNetLemmatizer\n",
    "from sklearn.preprocessing import LabelEncoder\n",
    "from collections import defaultdict\n",
    "from nltk.corpus import wordnet as wn\n",
    "from sklearn.feature_extraction.text import TfidfVectorizer\n",
    "from sklearn.metrics import accuracy_score\n",
    "from nltk.tokenize import word_tokenize\n",
    "from sklearn import model_selection, svm\n",
    "from sklearn.feature_extraction.text import CountVectorizer\n",
    "from sklearn.model_selection import GridSearchCV\n"
   ]
  },
  {
   "cell_type": "code",
   "execution_count": 2,
   "metadata": {},
   "outputs": [
    {
     "data": {
      "text/html": [
       "<div>\n",
       "<style scoped>\n",
       "    .dataframe tbody tr th:only-of-type {\n",
       "        vertical-align: middle;\n",
       "    }\n",
       "\n",
       "    .dataframe tbody tr th {\n",
       "        vertical-align: top;\n",
       "    }\n",
       "\n",
       "    .dataframe thead th {\n",
       "        text-align: right;\n",
       "    }\n",
       "</style>\n",
       "<table border=\"1\" class=\"dataframe\">\n",
       "  <thead>\n",
       "    <tr style=\"text-align: right;\">\n",
       "      <th></th>\n",
       "      <th>Rating</th>\n",
       "      <th>Review</th>\n",
       "    </tr>\n",
       "  </thead>\n",
       "  <tbody>\n",
       "    <tr>\n",
       "      <th>0</th>\n",
       "      <td>1</td>\n",
       "      <td>First of all i'm not a big fan of buffet, i tr...</td>\n",
       "    </tr>\n",
       "    <tr>\n",
       "      <th>1</th>\n",
       "      <td>2</td>\n",
       "      <td>Thanks Yelp. I was looking for the words to de...</td>\n",
       "    </tr>\n",
       "    <tr>\n",
       "      <th>2</th>\n",
       "      <td>3</td>\n",
       "      <td>Service was so-so. They were receiving a deliv...</td>\n",
       "    </tr>\n",
       "    <tr>\n",
       "      <th>3</th>\n",
       "      <td>3</td>\n",
       "      <td>Stamoolis Brothers is one of the Strip Distric...</td>\n",
       "    </tr>\n",
       "    <tr>\n",
       "      <th>4</th>\n",
       "      <td>1</td>\n",
       "      <td>I want to give a 2 stars because the service s...</td>\n",
       "    </tr>\n",
       "  </tbody>\n",
       "</table>\n",
       "</div>"
      ],
      "text/plain": [
       "   Rating                                             Review\n",
       "0       1  First of all i'm not a big fan of buffet, i tr...\n",
       "1       2  Thanks Yelp. I was looking for the words to de...\n",
       "2       3  Service was so-so. They were receiving a deliv...\n",
       "3       3  Stamoolis Brothers is one of the Strip Distric...\n",
       "4       1  I want to give a 2 stars because the service s..."
      ]
     },
     "execution_count": 2,
     "metadata": {},
     "output_type": "execute_result"
    }
   ],
   "source": [
    "# 10000 Yelp reviews\n",
    "fp = os.path.join('data', 'yelp.csv')\n",
    "reviews = pd.read_csv(fp)\n",
    "copy = reviews.copy()\n",
    "reviews.head()"
   ]
  },
  {
   "cell_type": "code",
   "execution_count": 3,
   "metadata": {},
   "outputs": [
    {
     "data": {
      "text/html": [
       "<div>\n",
       "<style scoped>\n",
       "    .dataframe tbody tr th:only-of-type {\n",
       "        vertical-align: middle;\n",
       "    }\n",
       "\n",
       "    .dataframe tbody tr th {\n",
       "        vertical-align: top;\n",
       "    }\n",
       "\n",
       "    .dataframe thead th {\n",
       "        text-align: right;\n",
       "    }\n",
       "</style>\n",
       "<table border=\"1\" class=\"dataframe\">\n",
       "  <thead>\n",
       "    <tr style=\"text-align: right;\">\n",
       "      <th></th>\n",
       "      <th>Rating</th>\n",
       "      <th>Review</th>\n",
       "    </tr>\n",
       "  </thead>\n",
       "  <tbody>\n",
       "    <tr>\n",
       "      <th>0</th>\n",
       "      <td>-1</td>\n",
       "      <td>First of all i'm not a big fan of buffet, i tr...</td>\n",
       "    </tr>\n",
       "    <tr>\n",
       "      <th>1</th>\n",
       "      <td>-1</td>\n",
       "      <td>Thanks Yelp. I was looking for the words to de...</td>\n",
       "    </tr>\n",
       "    <tr>\n",
       "      <th>2</th>\n",
       "      <td>-1</td>\n",
       "      <td>Service was so-so. They were receiving a deliv...</td>\n",
       "    </tr>\n",
       "    <tr>\n",
       "      <th>3</th>\n",
       "      <td>-1</td>\n",
       "      <td>Stamoolis Brothers is one of the Strip Distric...</td>\n",
       "    </tr>\n",
       "    <tr>\n",
       "      <th>4</th>\n",
       "      <td>-1</td>\n",
       "      <td>I want to give a 2 stars because the service s...</td>\n",
       "    </tr>\n",
       "  </tbody>\n",
       "</table>\n",
       "</div>"
      ],
      "text/plain": [
       "   Rating                                             Review\n",
       "0      -1  First of all i'm not a big fan of buffet, i tr...\n",
       "1      -1  Thanks Yelp. I was looking for the words to de...\n",
       "2      -1  Service was so-so. They were receiving a deliv...\n",
       "3      -1  Stamoolis Brothers is one of the Strip Distric...\n",
       "4      -1  I want to give a 2 stars because the service s..."
      ]
     },
     "execution_count": 3,
     "metadata": {},
     "output_type": "execute_result"
    }
   ],
   "source": [
    "# Classifying 4 and 5 as positive (+1) and 3, 2, and 1 as negative (-1)\n",
    "reviews['Rating'] = reviews['Rating'].apply(lambda x: 1 if x > 3 else -1)\n",
    "reviews.head()"
   ]
  },
  {
   "cell_type": "code",
   "execution_count": 5,
   "metadata": {},
   "outputs": [],
   "source": [
    "# This cleaning part was inspired from \n",
    "# https://stackabuse.com/removing-stop-words-from-strings-in-python/\n",
    "# Step - a : Remove blank rows if any.\n",
    "reviews['Review'].dropna(inplace=True)\n",
    "# Step - b : Change all the text to lower case. This is required \n",
    "# as python interprets 'dog' and 'DOG' differently\n",
    "reviews['Review'] = [entry.lower() for entry in reviews['Review']]\n",
    "# Step - c : Tokenization : In this each entry in the corpus will be \n",
    "# broken into set of words\n",
    "reviews['Review'] = [word_tokenize(entry) for entry in reviews['Review']]\n",
    "# Step - d : Remove Stop words, Non-Numeric and perfom Word \n",
    "# Stemming/Lemmenting. WordNetLemmatizer requires Pos tags to understand \n",
    "# if the word is noun \n",
    "# or verb or adjective etc. By default it is set to Noun\n",
    "tag_map = defaultdict(lambda : wn.NOUN)\n",
    "tag_map['J'] = wn.ADJ\n",
    "tag_map['V'] = wn.VERB\n",
    "tag_map['R'] = wn.ADV\n",
    "for index,entry in enumerate(reviews['Review']):\n",
    "    # Declaring Empty List to store the words that follow the rules \n",
    "    # for this step\n",
    "    Final_words = []\n",
    "    # Initializing WordNetLemmatizer()\n",
    "    word_Lemmatized = WordNetLemmatizer()\n",
    "    # pos_tag function below will provide the 'tag' i.e if the word is \n",
    "    # Noun(N) or Verb(V) or something else.\n",
    "    for word, tag in pos_tag(entry):\n",
    "        # Below condition is to check for Stop words and consider \n",
    "        # only alphabets\n",
    "        if word not in stopwords.words('english') and word.isalpha():\n",
    "            word_Final = word_Lemmatized.lemmatize(word,tag_map[tag[0]])\n",
    "            Final_words.append(word_Final)\n",
    "    # The final processed set of words for each iteration will be\n",
    "    # stored in 'text_final'\n",
    "    reviews.loc[index,'final_review'] = str(Final_words)"
   ]
  },
  {
   "cell_type": "code",
   "execution_count": 6,
   "metadata": {},
   "outputs": [
    {
     "data": {
      "text/html": [
       "<div>\n",
       "<style scoped>\n",
       "    .dataframe tbody tr th:only-of-type {\n",
       "        vertical-align: middle;\n",
       "    }\n",
       "\n",
       "    .dataframe tbody tr th {\n",
       "        vertical-align: top;\n",
       "    }\n",
       "\n",
       "    .dataframe thead th {\n",
       "        text-align: right;\n",
       "    }\n",
       "</style>\n",
       "<table border=\"1\" class=\"dataframe\">\n",
       "  <thead>\n",
       "    <tr style=\"text-align: right;\">\n",
       "      <th></th>\n",
       "      <th>Rating</th>\n",
       "      <th>Review</th>\n",
       "      <th>final_review</th>\n",
       "    </tr>\n",
       "  </thead>\n",
       "  <tbody>\n",
       "    <tr>\n",
       "      <th>0</th>\n",
       "      <td>-1</td>\n",
       "      <td>[first, of, all, i, 'm, not, a, big, fan, of, ...</td>\n",
       "      <td>['first', 'big', 'fan', 'buffet', 'try', 'get'...</td>\n",
       "    </tr>\n",
       "    <tr>\n",
       "      <th>1</th>\n",
       "      <td>-1</td>\n",
       "      <td>[thanks, yelp, ., i, was, looking, for, the, w...</td>\n",
       "      <td>['thanks', 'yelp', 'look', 'word', 'describe',...</td>\n",
       "    </tr>\n",
       "    <tr>\n",
       "      <th>2</th>\n",
       "      <td>-1</td>\n",
       "      <td>[service, was, so-so, ., they, were, receiving...</td>\n",
       "      <td>['service', 'receive', 'delivery', 'might', 'f...</td>\n",
       "    </tr>\n",
       "    <tr>\n",
       "      <th>3</th>\n",
       "      <td>-1</td>\n",
       "      <td>[stamoolis, brothers, is, one, of, the, strip,...</td>\n",
       "      <td>['stamoolis', 'brother', 'one', 'strip', 'dist...</td>\n",
       "    </tr>\n",
       "    <tr>\n",
       "      <th>4</th>\n",
       "      <td>-1</td>\n",
       "      <td>[i, want, to, give, a, 2, stars, because, the,...</td>\n",
       "      <td>['want', 'give', 'star', 'service', 'staff', '...</td>\n",
       "    </tr>\n",
       "  </tbody>\n",
       "</table>\n",
       "</div>"
      ],
      "text/plain": [
       "   Rating                                             Review  \\\n",
       "0      -1  [first, of, all, i, 'm, not, a, big, fan, of, ...   \n",
       "1      -1  [thanks, yelp, ., i, was, looking, for, the, w...   \n",
       "2      -1  [service, was, so-so, ., they, were, receiving...   \n",
       "3      -1  [stamoolis, brothers, is, one, of, the, strip,...   \n",
       "4      -1  [i, want, to, give, a, 2, stars, because, the,...   \n",
       "\n",
       "                                        final_review  \n",
       "0  ['first', 'big', 'fan', 'buffet', 'try', 'get'...  \n",
       "1  ['thanks', 'yelp', 'look', 'word', 'describe',...  \n",
       "2  ['service', 'receive', 'delivery', 'might', 'f...  \n",
       "3  ['stamoolis', 'brother', 'one', 'strip', 'dist...  \n",
       "4  ['want', 'give', 'star', 'service', 'staff', '...  "
      ]
     },
     "execution_count": 6,
     "metadata": {},
     "output_type": "execute_result"
    }
   ],
   "source": [
    "reviews.head()"
   ]
  },
  {
   "cell_type": "code",
   "execution_count": 7,
   "metadata": {},
   "outputs": [],
   "source": [
    "# Breaking up training and testing data\n",
    "X_train, X_test, y_train, y_test = train_test_split(\n",
    "    reviews['final_review'], reviews['Rating'], test_size=0.25)"
   ]
  },
  {
   "cell_type": "code",
   "execution_count": 8,
   "metadata": {},
   "outputs": [],
   "source": [
    "vect = CountVectorizer(max_features=500)\n",
    "vect.fit(reviews['final_review'])\n",
    "X_train_vec = vect.transform(X_train)\n",
    "X_test_vec = vect.transform(X_test)"
   ]
  },
  {
   "cell_type": "code",
   "execution_count": 12,
   "metadata": {},
   "outputs": [
    {
     "name": "stdout",
     "output_type": "stream",
     "text": [
      "SVM Accuracy Score ->  79.96\n"
     ]
    }
   ],
   "source": [
    "# Classifier - Algorithm - SVM\n",
    "# fit the training dataset on the classifier\n",
    "SVM = svm.LinearSVC()\n",
    "SVM.fit(X_train_vec,y_train)\n",
    "# predict the labels on validation dataset\n",
    "predictions_SVM = SVM.predict(X_test_vec)\n",
    "# Use accuracy_score function to get the accuracy\n",
    "print(\"SVM Accuracy Score -> \",accuracy_score(predictions_SVM, y_test)*100)"
   ]
  },
  {
   "cell_type": "code",
   "execution_count": null,
   "metadata": {},
   "outputs": [],
   "source": [
    "# Finding the best C value\n",
    "Cs = list(np.arange(1,20,1))\n",
    "parameters = {'C':Cs}\n",
    "grid = GridSearchCV(SVM, parameters, cv=3)\n",
    "grid = grid.fit(X_train_vec,y_train)\n",
    "grid.best_estimator_"
   ]
  },
  {
   "cell_type": "code",
   "execution_count": 22,
   "metadata": {
    "scrolled": true
   },
   "outputs": [],
   "source": [
    "errors = 1 - grid.cv_results_.get('mean_test_score')"
   ]
  },
  {
   "cell_type": "code",
   "execution_count": 23,
   "metadata": {},
   "outputs": [
    {
     "name": "stdout",
     "output_type": "stream",
     "text": [
      "Validation Error for C=3 is: 19.439999999999998\n",
      "Training Error for C=3 is: 16.33333333333333\n"
     ]
    }
   ],
   "source": [
    "# Checking training and validation error\n",
    "clf = grid.best_estimator_\n",
    "val_error = 100 - (accuracy_score(clf.predict(X_test_vec), y_test)*100)\n",
    "train_error = 100 - (accuracy_score(clf.predict(X_train_vec), y_train)*100)\n",
    "print('Validation Error for C=3 is: ' + str(val_error))\n",
    "print('Training Error for C=3 is: ' + str(train_error))"
   ]
  },
  {
   "cell_type": "markdown",
   "metadata": {},
   "source": [
    "### Part a Summary\n",
    "1. When C=3 gave me the best results as seen from above.  \n",
    "2. When C=3 I got a validation error of 19.36% and for the training error I got 15.95%\n",
    "3. See directly below for graph  \n",
    "4. See all above for code"
   ]
  },
  {
   "cell_type": "code",
   "execution_count": 24,
   "metadata": {},
   "outputs": [
    {
     "data": {
      "text/plain": [
       "Text(0,0.5,'Error')"
      ]
     },
     "execution_count": 24,
     "metadata": {},
     "output_type": "execute_result"
    },
    {
     "data": {
      "image/png": "[encoded data removed]",
      "text/plain": [
       "<matplotlib.figure.Figure at 0x1a2cceeeb8>"
      ]
     },
     "metadata": {},
     "output_type": "display_data"
    }
   ],
   "source": [
    "plt.plot(Cs, errors)\n",
    "plt.xlabel(\"C Value\")\n",
    "plt.ylabel(\"Error\")"
   ]
  },
  {
   "cell_type": "markdown",
   "metadata": {},
   "source": [
    "### Part b  \n",
    "The data is not linearly separable. We know this because our training error was greater than 0. If the data was linearly separable then the SVM would have been able to draw a line that perfectly separates the two classes, thus resulting in 0% error rate."
   ]
  },
  {
   "cell_type": "markdown",
   "metadata": {},
   "source": [
    "### Part c\n",
    "**Sentence that I think is positive that my predictor got right:** 'My favorite Sushi restaurant in Vegas so far.  They have an ALCE option which is usually the best way to go.  **if you order a la carte and  decide to spend more than the $28 AYCE price, they will let you just pay that flat fee and go to town!!! sunrise roll and seared tuna nagiri are my faves!'  \n",
    "\n",
    "**Sentence that I think is negative that my predictor got right:** \"this place is mostly hype.its not like flay is in the kitchen.the food was good,i ordered halibut and it was cooked beautifully.the presentation was pretty and so were the colorful sauce.but the food wasn't that good because it lacked flavor.\"  \n",
    "  \n",
    "**Sentence that I think is positive that my predictor got wrong:** \"So why am I a fan?  It's about a block from home, and they are open on Sundays, that's why.  Well not just that, I enjoy the fact that when I have been there it is not too over crowded (unless I need intense socialization I avoid most of these places on First Fridays).   Four Stars for Location, 3 stars for the food. \\\\nMy friends and I stopped in for lunch on a Sunday.  The prices are fair for the quantity and quality.  My friends Club sandwich looked super yummy and he enjoyed it.  I had the fish and shrimp and another friend had the fish and chips.  Not bad and feed that hungover greasy craving.  The fish and shrimp were crispy and plentiful. \\\\nI have tried other things there, my favorite still have to be the seasoned waffle fries.  Yum!\""
   ]
  },
  {
   "cell_type": "code",
   "execution_count": 100,
   "metadata": {},
   "outputs": [
    {
     "data": {
      "text/html": [
       "<div>\n",
       "<style scoped>\n",
       "    .dataframe tbody tr th:only-of-type {\n",
       "        vertical-align: middle;\n",
       "    }\n",
       "\n",
       "    .dataframe tbody tr th {\n",
       "        vertical-align: top;\n",
       "    }\n",
       "\n",
       "    .dataframe thead th {\n",
       "        text-align: right;\n",
       "    }\n",
       "</style>\n",
       "<table border=\"1\" class=\"dataframe\">\n",
       "  <thead>\n",
       "    <tr style=\"text-align: right;\">\n",
       "      <th></th>\n",
       "      <th>Rating</th>\n",
       "      <th>Review</th>\n",
       "      <th>Prediction</th>\n",
       "    </tr>\n",
       "  </thead>\n",
       "  <tbody>\n",
       "    <tr>\n",
       "      <th>626</th>\n",
       "      <td>-1</td>\n",
       "      <td>this place is mostly hype.its not like flay is...</td>\n",
       "      <td>-1</td>\n",
       "    </tr>\n",
       "    <tr>\n",
       "      <th>9423</th>\n",
       "      <td>1</td>\n",
       "      <td>My favorite Sushi restaurant in Vegas so far. ...</td>\n",
       "      <td>1</td>\n",
       "    </tr>\n",
       "    <tr>\n",
       "      <th>9669</th>\n",
       "      <td>-1</td>\n",
       "      <td>Great for late night IF nothing else is open a...</td>\n",
       "      <td>-1</td>\n",
       "    </tr>\n",
       "    <tr>\n",
       "      <th>4760</th>\n",
       "      <td>-1</td>\n",
       "      <td>Well, I returned to give this place another sh...</td>\n",
       "      <td>-1</td>\n",
       "    </tr>\n",
       "    <tr>\n",
       "      <th>7333</th>\n",
       "      <td>-1</td>\n",
       "      <td>Pink's was supposed to be a massive ending to ...</td>\n",
       "      <td>1</td>\n",
       "    </tr>\n",
       "    <tr>\n",
       "      <th>4502</th>\n",
       "      <td>-1</td>\n",
       "      <td>Great atmosphere, fine food, TERRIBLE PRICES.\\...</td>\n",
       "      <td>-1</td>\n",
       "    </tr>\n",
       "    <tr>\n",
       "      <th>1553</th>\n",
       "      <td>-1</td>\n",
       "      <td>Husband and I went for HH and also ordered som...</td>\n",
       "      <td>-1</td>\n",
       "    </tr>\n",
       "    <tr>\n",
       "      <th>2896</th>\n",
       "      <td>-1</td>\n",
       "      <td>After hearing about the eclectic offering at t...</td>\n",
       "      <td>-1</td>\n",
       "    </tr>\n",
       "    <tr>\n",
       "      <th>743</th>\n",
       "      <td>-1</td>\n",
       "      <td>Last two times I went to Vegas I came here. Bo...</td>\n",
       "      <td>-1</td>\n",
       "    </tr>\n",
       "    <tr>\n",
       "      <th>3572</th>\n",
       "      <td>1</td>\n",
       "      <td>So why am I a fan?  It's about a block from ho...</td>\n",
       "      <td>-1</td>\n",
       "    </tr>\n",
       "  </tbody>\n",
       "</table>\n",
       "</div>"
      ],
      "text/plain": [
       "      Rating                                             Review  Prediction\n",
       "626       -1  this place is mostly hype.its not like flay is...          -1\n",
       "9423       1  My favorite Sushi restaurant in Vegas so far. ...           1\n",
       "9669      -1  Great for late night IF nothing else is open a...          -1\n",
       "4760      -1  Well, I returned to give this place another sh...          -1\n",
       "7333      -1  Pink's was supposed to be a massive ending to ...           1\n",
       "4502      -1  Great atmosphere, fine food, TERRIBLE PRICES.\\...          -1\n",
       "1553      -1  Husband and I went for HH and also ordered som...          -1\n",
       "2896      -1  After hearing about the eclectic offering at t...          -1\n",
       "743       -1  Last two times I went to Vegas I came here. Bo...          -1\n",
       "3572       1  So why am I a fan?  It's about a block from ho...          -1"
      ]
     },
     "execution_count": 100,
     "metadata": {},
     "output_type": "execute_result"
    }
   ],
   "source": [
    "preds = clf.predict(X_test_vec)\n",
    "indices = X_test.index\n",
    "test = copy.iloc[indices]\n",
    "test['Rating'] = reviews['Rating'].apply(lambda x: 1 if x > 3 else -1)\n",
    "test['Prediction'] = preds\n",
    "test.head(10)"
   ]
  },
  {
   "cell_type": "code",
   "execution_count": 104,
   "metadata": {},
   "outputs": [],
   "source": [
    "sentence1 = test.iloc[1].values[1]\n",
    "sentence2 = test.iloc[0].values[1]\n",
    "sentence3 = test.iloc[9].values[1]"
   ]
  },
  {
   "cell_type": "code",
   "execution_count": null,
   "metadata": {},
   "outputs": [],
   "source": []
  }
 ],
 "metadata": {
  "kernelspec": {
   "display_name": "Python 3",
   "language": "python",
   "name": "python3"
  },
  "language_info": {
   "codemirror_mode": {
    "name": "ipython",
    "version": 3
   },
   "file_extension": ".py",
   "mimetype": "text/x-python",
   "name": "python",
   "nbconvert_exporter": "python",
   "pygments_lexer": "ipython3",
   "version": "3.6.4"
  }
 },
 "nbformat": 4,
 "nbformat_minor": 2
}
